{
 "cells": [
  {
   "cell_type": "markdown",
   "metadata": {},
   "source": [
    "# Directive for creating a script for your notebook\n",
    "\n",
    "The block here below is required at the top of each notebook that you want to create a script for. You will also need to edit the \"settings.ini\" file, to create a script (see [Coding in NBdev](https://dksund.sharepoint.com/:fl:/g/contentstorage/CSP_7c761ee7-b577-4e08-8517-bc82392bf65e/ETlSfUyArSNJhX8veMI_JQ8By1aXGHzDJkhotpfpXx4mmw?e=037EwH&nav=cz0lMkZjb250ZW50c3RvcmFnZSUyRkNTUF83Yzc2MWVlNy1iNTc3LTRlMDgtODUxNy1iYzgyMzkyYmY2NWUmZD1iJTIxNXg1MmZIZTFDRTZGRjd5Q09TdjJYblkwVlNiWXFYcE1yaHVrVmZqTVJUVEE4X1VwZjhTd1JxcjRNdmFrSmh2RCZmPTAxVlVLVzVWSlpLSjZVWkFGTkVORVlLN1pQUERCRDZKSVAmYz0lMkYmYT1Mb29wQXBwJnA9JTQwZmx1aWR4JTJGbG9vcC1wYWdlLWNvbnRhaW5lciZ4PSU3QiUyMnclMjIlM0ElMjJUMFJUVUh4a2EzTjFibVF1YzJoaGNtVndiMmx1ZEM1amIyMThZaUUxZURVeVpraGxNVU5GTmtaR04zbERUMU4yTWxodVdUQldVMkpaY1Zod1RYSm9kV3RXWm1wTlVsUlVRVGhmVlhCbU9GTjNVbkZ5TkUxMllXdEthSFpFZkRBeFZsVkxWelZXU1RJMVJsaFBNalkyUlZkQ1FqTTFRVmhKVTBkRFVVcFdXa1klM0QlMjIlMkMlMjJpJTIyJTNBJTIyNzRmNzM1ZmUtYzg4Ny00MjhhLWFkZmYtNTEyZTg2YmNmZmQzJTIyJTdE) \n",
    "(**Writing your own notebooks**) on loop for more details). Replace **some_string** with a name that makes sense for your notebook. "
   ]
  },
  {
   "cell_type": "code",
   "execution_count": null,
   "metadata": {},
   "outputs": [],
   "source": [
    "# |default_exp Legionella_parser\n"
   ]
  },
  {
   "cell_type": "markdown",
   "metadata": {},
   "source": [
    "# Libraries\n",
    "Include all the libraries which should be used in this module. You can also import modules from other notebooks; here, we have imported the functions in the core notebook."
   ]
  },
  {
   "cell_type": "code",
   "execution_count": null,
   "metadata": {},
   "outputs": [],
   "source": [
    "# |export\n",
    "\n",
    "# standard libs\n",
    "import os\n",
    "import re\n",
    "\n",
    "# Common to template\n",
    "# add into settings.ini, requirements, package name is python-dotenv, for conda build ensure `conda config --add channels conda-forge`\n",
    "import dotenv  # for loading config from .env files, https://pypi.org/project/python-dotenv/\n",
    "import envyaml  # Allows to loads env vars into a yaml file, https://github.com/thesimj/envyaml\n",
    "import fastcore  # To add functionality related to nbdev development, https://github.com/fastai/fastcore/\n",
    "from fastcore import (\n",
    "    test,\n",
    ")\n",
    "from fastcore.script import (\n",
    "    call_parse,\n",
    ")  # for @call_parse, https://fastcore.fast.ai/script\n",
    "import json  # for nicely printing json and yaml\n",
    "\n",
    "#import functions from core module (optional, but most likely needed). \n",
    "from ssi_analysis_result_parsers import(\n",
    "    core,\n",
    "    blast_parser,\n",
    ")\n",
    "#from ssi_analysis_result_parsers.blast_parser import extract_presence_absence\n",
    "\n",
    "# Project specific libraries\n",
    "from pathlib import Path\n",
    "import pandas\n",
    "import numpy\n",
    "import sys"
   ]
  },
  {
   "cell_type": "code",
   "execution_count": null,
   "metadata": {},
   "outputs": [],
   "source": [
    "# This block should never be exported. It is to have python running in the project (and not the nbs) dir, and to initiate the package using pip.\n",
    "os.chdir(core.PROJECT_DIR)"
   ]
  },
  {
   "cell_type": "markdown",
   "metadata": {},
   "source": [
    "# Functions\n",
    "\n",
    "Add your code here below. If your notebook will be used as a console-script, you need to add a \"cli\"-function, at the end (see [Coding in NBdev](https://dksund.sharepoint.com/:fl:/g/contentstorage/CSP_7c761ee7-b577-4e08-8517-bc82392bf65e/ETlSfUyArSNJhX8veMI_JQ8By1aXGHzDJkhotpfpXx4mmw?e=037EwH&nav=cz0lMkZjb250ZW50c3RvcmFnZSUyRkNTUF83Yzc2MWVlNy1iNTc3LTRlMDgtODUxNy1iYzgyMzkyYmY2NWUmZD1iJTIxNXg1MmZIZTFDRTZGRjd5Q09TdjJYblkwVlNiWXFYcE1yaHVrVmZqTVJUVEE4X1VwZjhTd1JxcjRNdmFrSmh2RCZmPTAxVlVLVzVWSlpLSjZVWkFGTkVORVlLN1pQUERCRDZKSVAmYz0lMkYmYT1Mb29wQXBwJnA9JTQwZmx1aWR4JTJGbG9vcC1wYWdlLWNvbnRhaW5lciZ4PSU3QiUyMnclMjIlM0ElMjJUMFJUVUh4a2EzTjFibVF1YzJoaGNtVndiMmx1ZEM1amIyMThZaUUxZURVeVpraGxNVU5GTmtaR04zbERUMU4yTWxodVdUQldVMkpaY1Zod1RYSm9kV3RXWm1wTlVsUlVRVGhmVlhCbU9GTjNVbkZ5TkUxMllXdEthSFpFZkRBeFZsVkxWelZXU1RJMVJsaFBNalkyUlZkQ1FqTTFRVmhKVTBkRFVVcFdXa1klM0QlMjIlMkMlMjJpJTIyJTNBJTIyNzRmNzM1ZmUtYzg4Ny00MjhhLWFkZmYtNTEyZTg2YmNmZmQzJTIyJTdE) \n",
    "(**Code execution** and **Input, output and options**) on loop for more details)"
   ]
  },
  {
   "cell_type": "code",
   "execution_count": null,
   "metadata": {},
   "outputs": [],
   "source": [
    "# | export\n",
    "\n",
    "def extract_legionella_sbt(legionella_sbt_results_tsv: Path) -> dict:\n",
    "    \"\"\"\n",
    "    Extract results from Legionella SBT results file\n",
    "    Returns a dictionary with ST, allele variant for each gene, and notes from output\n",
    "    \"\"\"\n",
    "    if os.path.exists(legionella_sbt_results_tsv):\n",
    "        try:\n",
    "            df = pandas.read_csv(legionella_sbt_results_tsv, sep='\\t')\n",
    "            df.set_index(\"sample\", inplace=True, drop=True)\n",
    "            d = df.to_dict(orient=\"index\")\n",
    "            fname = next(iter(d))\n",
    "            return d[fname]\n",
    "        except pandas.errors.EmptyDataError:\n",
    "            print(f\"Legionella SBT output empty at {legionella_sbt_results_tsv}\", file=sys.stderr)\n",
    "            return None\n",
    "    else:\n",
    "        print(f\"No Legionella SBT output found at {legionella_sbt_results_tsv}\", file=sys.stderr)\n",
    "        return None\n",
    "\n",
    "\n",
    "\n",
    "\n",
    "class LegionellaResults(core.PipelineResults):\n",
    "\n",
    "    @classmethod\n",
    "    def from_tool_paths(cls, legionella_sbt_results_tsv: Path, lag1_blast_tsv: Path, sample_name = None):\n",
    "        \"\"\"\n",
    "        Alternative constructor for initializing results for single sample,\n",
    "        Initializes LegionellaResults instance provided paths to outputs from tools (legionella sbt and lag1 presence blast)\n",
    "        \"\"\"\n",
    "        legionella_results = cls.summary(legionella_sbt_results_tsv=legionella_sbt_results_tsv,\n",
    "                                         lag1_blast_tsv=lag1_blast_tsv)\n",
    "        return cls( {sample_name: legionella_results})\n",
    "    \n",
    "    @classmethod\n",
    "    def from_tool_paths_dict(cls, file_paths: dict):\n",
    "        \"\"\"\n",
    "        Alternative constructor for initializing results for multiple samples,\n",
    "        Initializes LegionellaResults instance by providing a dictionary of paths to outputs from tools (legionella sbt and lag1 presence blast)\n",
    "        \"\"\"\n",
    "        results_dict = {}\n",
    "        for sample_name, path_dict in file_paths.items():\n",
    "            legionella_results = cls.summary(legionella_sbt_results_tsv=Path(path_dict[\"sbt_results\"]),\n",
    "                                             lag1_blast_tsv=Path(path_dict[\"lag1_blast_results\"]))\n",
    "            results_dict[sample_name] = legionella_results\n",
    "        return cls(results_dict)\n",
    "    \n",
    "    @classmethod\n",
    "    def from_tool_paths_dataframe(cls, file_paths_df: pandas.DataFrame):\n",
    "        \"\"\"\n",
    "        Alternative constructor for initializing results for multiple samples,\n",
    "        Initializes LegionellaResults instance by providing a DataFrame of paths to outputs from tools (legionella sbt and lag1 presence blast)\n",
    "        \"\"\"\n",
    "        file_paths_df.replace(numpy.nan, None, inplace=True)\n",
    "        file_paths = file_paths_df.to_dict(orient=\"index\")\n",
    "        results_dict = {}\n",
    "        for sample_name, path_dict in file_paths.items():\n",
    "            legionella_results = cls.summary(legionella_sbt_results_tsv=Path(path_dict[\"sbt_results\"]),\n",
    "                                             lag1_blast_tsv=Path(path_dict[\"lag1_blast_results\"]))\n",
    "            print(legionella_results)\n",
    "            results_dict[sample_name] = legionella_results\n",
    "        return cls(results_dict)\n",
    "\n",
    "    @classmethod\n",
    "    def from_tool_paths_tsv(cls, tool_paths_tsv: Path):\n",
    "        \"\"\"\n",
    "        Alternative constructor for initializing results for multiple samples,\n",
    "        Initializes LegionellaResults instance by providing a tsv-file with paths to outputs from tools (legionella sbt and lag1 presence blast)\n",
    "        \"\"\"\n",
    "        file_paths_df = pandas.read_csv(tool_paths_tsv, sep='\\t')\n",
    "        file_paths_df.set_index(\"sample_name\", inplace=True, drop=True)\n",
    "        return cls.from_tool_paths_dataframe(file_paths_df)\n",
    "    \n",
    "    @staticmethod\n",
    "    def summary(legionella_sbt_results_tsv: Path, lag1_blast_tsv: Path) -> dict:\n",
    "        sbt_results_dict = extract_legionella_sbt(legionella_sbt_results_tsv=legionella_sbt_results_tsv)\n",
    "        lag1_blast_dict = blast_parser.extract_presence_absence(blast_output_tsv = lag1_blast_tsv,\n",
    "                                                                    hits_as_string = False,\n",
    "                                                                    include_match_stats = False,\n",
    "                                                                    gene_names = [\"lag-1\"])\n",
    "        results_dict = core.update_results_dict(sbt_results_dict, lag1_blast_dict, old_duplicate_key_prefix=\"SBT: \")\n",
    "        if results_dict is None:\n",
    "            return {}\n",
    "        return results_dict\n",
    "\n",
    "\n",
    "    def __repr__(self):\n",
    "        return(f\"< Legionella analysis results object. {len(self.results_df)} samples with {len(self.results_df.columns)} result variables > \")\n",
    "\n",
    "\n"
   ]
  },
  {
   "cell_type": "markdown",
   "metadata": {},
   "source": [
    "## TESTING\n"
   ]
  },
  {
   "cell_type": "code",
   "execution_count": null,
   "metadata": {},
   "outputs": [
    {
     "name": "stdout",
     "output_type": "stream",
     "text": [
      "Blast output file test_input/Legionella/lag-1_blast_2.tsv empty. Assuming 0 blast hits.\n",
      "{'ST': 23, 'flaA': 2, 'pilE': 3, 'asd': 9, 'mip': 10, 'mompS': 2, 'proA': 1, 'neuA': 6, 'notes': 'Exact ST match, Heterozygous mompS alleles, High confidence mompS allele call', 'lag-1': '1'}\n",
      "Blast output file test_input/Legionella/lag-1_blast_2.tsv empty. Assuming 0 blast hits.\n",
      "{'ST': 182, 'flaA': 3, 'pilE': 4, 'asd': 1, 'mip': 3, 'mompS': 35, 'proA': 9, 'neuA': 11, 'notes': 'Exact ST match, Heterozygous mompS alleles, High confidence mompS allele call', 'lag-1': '0'}\n",
      "Blast output file test_input/empty_file.txt empty. Assuming 0 blast hits.\n",
      "{'ST': 182, 'flaA': 3, 'pilE': 4, 'asd': 1, 'mip': 3, 'mompS': 35, 'proA': 9, 'neuA': 11, 'notes': 'Exact ST match, Heterozygous mompS alleles, High confidence mompS allele call', 'lag-1': '0'}\n",
      "Blast output file test_input/Legionella/lag-1_blast_2.tsv empty. Assuming 0 blast hits.\n",
      "{'lag-1': '0'}\n"
     ]
    },
    {
     "name": "stderr",
     "output_type": "stream",
     "text": [
      "Legionella SBT output empty at test_input/empty_file.txt\n"
     ]
    }
   ],
   "source": [
    "\n",
    "\n",
    "\n",
    "f = LegionellaResults.from_results_tsv(\"./test_output/test_batch_output.tsv\")\n",
    "assert(len(f) == 2)\n",
    "assert(f.results_dict[\"sample_1\"][\"ST\"] == 23)\n",
    "\n",
    "\n",
    "f = LegionellaResults.from_tool_paths_dict(file_paths=  {\"sample_1\": {\"sbt_results\": \"test_input/Legionella/test.sbt.tsv\", \"lag1_blast_results\": \"test_input/Legionella/lag-1_blast.tsv\"},\n",
    "                                                            \"sample_2\": {\"sbt_results\": \"test_input/Legionella/test2.sbt.tsv\", \"lag1_blast_results\": \"test_input/Legionella/lag-1_blast_2.tsv\"}})\n",
    "\n",
    "\n",
    "\n",
    "f = LegionellaResults.from_tool_paths(legionella_sbt_results_tsv=\"test_input/Legionella/test.sbt.tsv\",\n",
    "                                      lag1_blast_tsv=\"test_input/Legionella/lag-1_blast.tsv\")\n",
    "\n",
    "\n",
    "\n",
    "f = LegionellaResults.from_tool_paths_tsv(tool_paths_tsv=\"test_input/Legionella/batch_parser_file_paths.tsv\")\n",
    "\n",
    "assert(len(f) == 4)\n",
    "assert(len(f.results_df) == 4)\n",
    "assert(len(f.results_df.columns) == 10)\n"
   ]
  },
  {
   "cell_type": "code",
   "execution_count": null,
   "metadata": {},
   "outputs": [],
   "source": [
    "# |export\n",
    "\n",
    "\n",
    "\n",
    "@call_parse\n",
    "def legionella_parser(\n",
    "    legionella_sbt_file: Path = None,  # Path \"*.sbt.tsv from legionella_sbt program\"\n",
    "    lag_1_blast_output: Path = None, #  Path to output from lag1_blast. Generated with blastn -query lag-1.fasta -subject assembly.fasta -outfmt \"6 qseqid sseqid pident length qlen qstart qend sstart send sseq evalue bitscore\"\n",
    "    output_file: Path = None,  # Path to output tsv\n",
    "    sample_name: str = None,\n",
    ") -> None:\n",
    "    \"\"\"\n",
    "    \n",
    "    \"\"\"\n",
    "    legionella_results = LegionellaResults.from_tool_paths(legionella_sbt_results_tsv=legionella_sbt_file,\n",
    "                                                           lag1_blast_tsv=lag_1_blast_output,\n",
    "                                                           sample_name=sample_name)\n",
    "    legionella_results.write_tsv(output_file=output_file)\n",
    "\n",
    "@call_parse\n",
    "def legionella_batch_parser(\n",
    "    file_path_tsv: Path = None,  # Path to tsv containing file paths to the outputs from tools to be parsed. Must contain headers \"sample_name\", \"sbt_results\", and \"lag1_blast_results\"\n",
    "    output_file: Path = None,  # Path to output tsv\n",
    ") -> None:\n",
    "    \"\"\"\n",
    "    \n",
    "    \"\"\"\n",
    "    legionella_results = LegionellaResults.from_tool_paths_tsv(tool_paths_tsv=file_path_tsv)\n",
    "    legionella_results.write_tsv(output_file)\n",
    "\n"
   ]
  },
  {
   "cell_type": "markdown",
   "metadata": {},
   "source": [
    "# Directive for ensuring that the code in your notebook get executed as a script\n",
    "\n",
    "The code-block here below is required to ensure that the code in the notebook is also transferred to the module (script), otherwise it will just be a notebook. See [Coding in NBdev](https://dksund.sharepoint.com/:fl:/g/contentstorage/CSP_7c761ee7-b577-4e08-8517-bc82392bf65e/ETlSfUyArSNJhX8veMI_JQ8By1aXGHzDJkhotpfpXx4mmw?e=037EwH&nav=cz0lMkZjb250ZW50c3RvcmFnZSUyRkNTUF83Yzc2MWVlNy1iNTc3LTRlMDgtODUxNy1iYzgyMzkyYmY2NWUmZD1iJTIxNXg1MmZIZTFDRTZGRjd5Q09TdjJYblkwVlNiWXFYcE1yaHVrVmZqTVJUVEE4X1VwZjhTd1JxcjRNdmFrSmh2RCZmPTAxVlVLVzVWSlpLSjZVWkFGTkVORVlLN1pQUERCRDZKSVAmYz0lMkYmYT1Mb29wQXBwJnA9JTQwZmx1aWR4JTJGbG9vcC1wYWdlLWNvbnRhaW5lciZ4PSU3QiUyMnclMjIlM0ElMjJUMFJUVUh4a2EzTjFibVF1YzJoaGNtVndiMmx1ZEM1amIyMThZaUUxZURVeVpraGxNVU5GTmtaR04zbERUMU4yTWxodVdUQldVMkpaY1Zod1RYSm9kV3RXWm1wTlVsUlVRVGhmVlhCbU9GTjNVbkZ5TkUxMllXdEthSFpFZkRBeFZsVkxWelZXU1RJMVJsaFBNalkyUlZkQ1FqTTFRVmhKVTBkRFVVcFdXa1klM0QlMjIlMkMlMjJpJTIyJTNBJTIyNzRmNzM1ZmUtYzg4Ny00MjhhLWFkZmYtNTEyZTg2YmNmZmQzJTIyJTdE) \n",
    "(**Writing your own notebooks**) on loop for more details."
   ]
  },
  {
   "cell_type": "code",
   "execution_count": null,
   "metadata": {},
   "outputs": [],
   "source": [
    "# | hide\n",
    "# This is included at the end to ensure when you run through your notebook the code is also transferred to the module and isn't just a notebook\n",
    "import nbdev\n",
    "\n",
    "nbdev.nbdev_export()"
   ]
  }
 ],
 "metadata": {
  "kernelspec": {
   "display_name": "python3",
   "language": "python",
   "name": "python3"
  }
 },
 "nbformat": 4,
 "nbformat_minor": 2
}
