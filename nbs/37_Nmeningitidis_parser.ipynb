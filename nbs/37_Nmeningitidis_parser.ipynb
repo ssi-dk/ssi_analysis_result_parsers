{
 "cells": [
  {
   "cell_type": "markdown",
   "metadata": {},
   "source": [
    "# Directive for creating a script for your notebook\n",
    "\n",
    "The block here below is required at the top of each notebook that you want to create a script for. You will also need to edit the \"settings.ini\" file, to create a script (see [Coding in NBdev](https://dksund.sharepoint.com/:fl:/g/contentstorage/CSP_7c761ee7-b577-4e08-8517-bc82392bf65e/ETlSfUyArSNJhX8veMI_JQ8By1aXGHzDJkhotpfpXx4mmw?e=037EwH&nav=cz0lMkZjb250ZW50c3RvcmFnZSUyRkNTUF83Yzc2MWVlNy1iNTc3LTRlMDgtODUxNy1iYzgyMzkyYmY2NWUmZD1iJTIxNXg1MmZIZTFDRTZGRjd5Q09TdjJYblkwVlNiWXFYcE1yaHVrVmZqTVJUVEE4X1VwZjhTd1JxcjRNdmFrSmh2RCZmPTAxVlVLVzVWSlpLSjZVWkFGTkVORVlLN1pQUERCRDZKSVAmYz0lMkYmYT1Mb29wQXBwJnA9JTQwZmx1aWR4JTJGbG9vcC1wYWdlLWNvbnRhaW5lciZ4PSU3QiUyMnclMjIlM0ElMjJUMFJUVUh4a2EzTjFibVF1YzJoaGNtVndiMmx1ZEM1amIyMThZaUUxZURVeVpraGxNVU5GTmtaR04zbERUMU4yTWxodVdUQldVMkpaY1Zod1RYSm9kV3RXWm1wTlVsUlVRVGhmVlhCbU9GTjNVbkZ5TkUxMllXdEthSFpFZkRBeFZsVkxWelZXU1RJMVJsaFBNalkyUlZkQ1FqTTFRVmhKVTBkRFVVcFdXa1klM0QlMjIlMkMlMjJpJTIyJTNBJTIyNzRmNzM1ZmUtYzg4Ny00MjhhLWFkZmYtNTEyZTg2YmNmZmQzJTIyJTdE) \n",
    "(**Writing your own notebooks**) on loop for more details). Replace **some_string** with a name that makes sense for your notebook. "
   ]
  },
  {
   "cell_type": "code",
   "execution_count": null,
   "metadata": {},
   "outputs": [],
   "source": [
    "# |default_exp Nmeningitidis_parser\n"
   ]
  },
  {
   "cell_type": "markdown",
   "metadata": {},
   "source": [
    "# Libraries\n",
    "Include all the libraries which should be used in this module. You can also import modules from other notebooks; here, we have imported the functions in the core notebook."
   ]
  },
  {
   "cell_type": "code",
   "execution_count": null,
   "metadata": {},
   "outputs": [],
   "source": [
    "# |export\n",
    "\n",
    "# standard libs\n",
    "import os\n",
    "import re\n",
    "\n",
    "# Common to template\n",
    "# add into settings.ini, requirements, package name is python-dotenv, for conda build ensure `conda config --add channels conda-forge`\n",
    "import dotenv  # for loading config from .env files, https://pypi.org/project/python-dotenv/\n",
    "import envyaml  # Allows to loads env vars into a yaml file, https://github.com/thesimj/envyaml\n",
    "import fastcore  # To add functionality related to nbdev development, https://github.com/fastai/fastcore/\n",
    "from fastcore import (\n",
    "    test,\n",
    ")\n",
    "from fastcore.script import (\n",
    "    call_parse,\n",
    ")  # for @call_parse, https://fastcore.fast.ai/script\n",
    "import json  # for nicely printing json and yaml\n",
    "\n",
    "#import functions from core module (optional, but most likely needed). \n",
    "from ssi_analysis_result_parsers import(\n",
    "    core,\n",
    "    blast_parser,\n",
    ")\n",
    "#from ssi_analysis_result_parsers.blast_parser import extract_presence_absence\n",
    "\n",
    "# Project specific libraries\n",
    "from pathlib import Path\n",
    "import pandas\n",
    "import numpy\n",
    "import sys"
   ]
  },
  {
   "cell_type": "code",
   "execution_count": null,
   "metadata": {},
   "outputs": [],
   "source": [
    "# This block should never be exported. It is to have python running in the project (and not the nbs) dir, and to initiate the package using pip.\n",
    "os.chdir(core.PROJECT_DIR)"
   ]
  },
  {
   "cell_type": "markdown",
   "metadata": {},
   "source": [
    "# Functions\n",
    "\n",
    "Add your code here below. If your notebook will be used as a console-script, you need to add a \"cli\"-function, at the end (see [Coding in NBdev](https://dksund.sharepoint.com/:fl:/g/contentstorage/CSP_7c761ee7-b577-4e08-8517-bc82392bf65e/ETlSfUyArSNJhX8veMI_JQ8By1aXGHzDJkhotpfpXx4mmw?e=037EwH&nav=cz0lMkZjb250ZW50c3RvcmFnZSUyRkNTUF83Yzc2MWVlNy1iNTc3LTRlMDgtODUxNy1iYzgyMzkyYmY2NWUmZD1iJTIxNXg1MmZIZTFDRTZGRjd5Q09TdjJYblkwVlNiWXFYcE1yaHVrVmZqTVJUVEE4X1VwZjhTd1JxcjRNdmFrSmh2RCZmPTAxVlVLVzVWSlpLSjZVWkFGTkVORVlLN1pQUERCRDZKSVAmYz0lMkYmYT1Mb29wQXBwJnA9JTQwZmx1aWR4JTJGbG9vcC1wYWdlLWNvbnRhaW5lciZ4PSU3QiUyMnclMjIlM0ElMjJUMFJUVUh4a2EzTjFibVF1YzJoaGNtVndiMmx1ZEM1amIyMThZaUUxZURVeVpraGxNVU5GTmtaR04zbERUMU4yTWxodVdUQldVMkpaY1Zod1RYSm9kV3RXWm1wTlVsUlVRVGhmVlhCbU9GTjNVbkZ5TkUxMllXdEthSFpFZkRBeFZsVkxWelZXU1RJMVJsaFBNalkyUlZkQ1FqTTFRVmhKVTBkRFVVcFdXa1klM0QlMjIlMkMlMjJpJTIyJTNBJTIyNzRmNzM1ZmUtYzg4Ny00MjhhLWFkZmYtNTEyZTg2YmNmZmQzJTIyJTdE) \n",
    "(**Code execution** and **Input, output and options**) on loop for more details)"
   ]
  },
  {
   "cell_type": "code",
   "execution_count": null,
   "metadata": {},
   "outputs": [],
   "source": [
    "# | export\n",
    "\n",
    "\n",
    "def extract_meningotype(meningotype_tsv: Path):\n",
    "    if meningotype_tsv.exists():\n",
    "        try:\n",
    "            df = pandas.read_csv(meningotype_tsv, sep='\\t')\n",
    "            PorA_split = df[\"PorA\"][0].split(\",\")\n",
    "            return {\"SEROGROUP\": df[\"SEROGROUP\"][0],\n",
    "                    \"VR1\": PorA_split[0],\n",
    "                    \"VR2\": PorA_split[1],\n",
    "                    \"FetA\": df[\"FetA\"][0],\n",
    "                    }\n",
    "        except pandas.errors.EmptyDataError:\n",
    "            print(f\"Meningotype output file empty at {meningotype_tsv}\", file=sys.stderr)\n",
    "            return None\n",
    "    else:\n",
    "        print(f\"No meningotype output found at {meningotype_tsv}\", file=sys.stderr)\n",
    "        return None\n",
    "\n",
    "    return None\n",
    "\n",
    "def extract_cc_from_mlst(MLST: str, mlst_scheme_tsv: Path = \"/users/data/Projects/MICROBIAL_SURVEILLANCE/Resources/Databases/mlst/neisseria/neisseria.txt\"):\n",
    "    CC = {\"CC\": \"\"}\n",
    "    if mlst_scheme_tsv.exists():\n",
    "        try:\n",
    "            with open(mlst_scheme_tsv) as f:\n",
    "                for line in f:\n",
    "                    line = line.strip('\\n').split('\\t')\n",
    "                    if line[0] == MLST:\n",
    "                        if line[8][:3] == \"ST-\":\n",
    "                            CC[\"CC\"] = line[8].split(\" \")[0][3:]\n",
    "                        return CC\n",
    "        except Exception as e:\n",
    "            CC[\"CC\"] = f\"Failed to load mlst scheme tsv: {e}\"\n",
    "    else:\n",
    "        CC[\"CC\"] = \"Failed to load mlst scheme tsv, file not found\"\n",
    "    return CC\n",
    "\n",
    "\n",
    "class NmeningitidisResults(core.PipelineResults):\n",
    "\n",
    "    @classmethod\n",
    "    def from_tool_paths(cls, meningotype_tsv: Path, MLST: str, mlst_scheme_tsv: Path, sample_name = None):\n",
    "        \"\"\"\n",
    "        Alternative constructor for initializing results for single sample,\n",
    "        Initializes NmeningitidisResults instance provided paths to outputs from tools (legionella sbt and lag1 presence blast)\n",
    "        \"\"\"\n",
    "        mgk_results = cls.summary(meningotype_tsv=Path(meningotype_tsv),\n",
    "                                  MLST=MLST,\n",
    "                                  mlst_scheme_tsv=Path(mlst_scheme_tsv))\n",
    "        return cls( {sample_name: mgk_results})\n",
    "    \n",
    "    @classmethod\n",
    "    def from_tool_paths_dict(cls, file_paths: dict):\n",
    "        \"\"\"\n",
    "        Alternative constructor for initializing results for multiple samples,\n",
    "        Initializes NmeningitidisResults instance by providing a dictionary of paths to outputs from tools (legionella sbt and lag1 presence blast)\n",
    "        \"\"\"\n",
    "        results_dict = {}\n",
    "        for sample_name, path_dict in file_paths.items():\n",
    "            mgk_results = cls.summary(meningotype_tsv=Path(path_dict[\"meningotype_results\"]),\n",
    "                                      MLST=path_dict[\"MLST\"],\n",
    "                                      mlst_scheme_tsv=path_dict[\"mlst_scheme_tsv\"]\n",
    "                                      )\n",
    "            results_dict[sample_name] = mgk_results\n",
    "        return cls(results_dict)\n",
    "    \n",
    "    @classmethod\n",
    "    def from_tool_paths_dataframe(cls, file_paths_df: pandas.DataFrame):\n",
    "        \"\"\"\n",
    "        Alternative constructor for initializing results for multiple samples,\n",
    "        Initializes NmeningitidisResults instance by providing a DataFrame of paths to outputs from tools (legionella sbt and lag1 presence blast)\n",
    "        \"\"\"\n",
    "        file_paths = file_paths_df.to_dict(orient=\"index\")\n",
    "        \n",
    "        return cls.from_tool_paths_dict(file_paths=file_paths)\n",
    "\n",
    "    @classmethod\n",
    "    def from_tool_paths_tsv(cls, tool_paths_tsv: Path):\n",
    "        \"\"\"\n",
    "        Alternative constructor for initializing results for multiple samples,\n",
    "        Initializes NmeningitidisResults instance by providing a tsv-file with paths to outputs from tools (legionella sbt and lag1 presence blast)\n",
    "        \"\"\"\n",
    "        file_paths_df = pandas.read_csv(tool_paths_tsv, sep='\\t')\n",
    "        file_paths_df.set_index(\"sample_name\", inplace=True, drop=True)\n",
    "        return cls.from_tool_paths_dataframe(file_paths_df)\n",
    "    \n",
    "    @staticmethod\n",
    "    def summary(meningotype_tsv: Path, MLST: str, mlst_scheme_tsv: Path) -> dict:\n",
    "        meningotype_results = extract_meningotype(meningotype_tsv=Path(meningotype_tsv))\n",
    "        results_dict = meningotype_results\n",
    "        cc_dict = extract_cc_from_mlst(MLST=MLST, mlst_scheme_tsv=Path(mlst_scheme_tsv))\n",
    "        results_dict = core.update_results_dict(results_dict, cc_dict, old_duplicate_key_prefix=\"Clonal_complex: \")\n",
    "        if results_dict is None:\n",
    "            return {}\n",
    "        return results_dict\n",
    "\n",
    "\n",
    "    def __repr__(self):\n",
    "        return(f\"< Spyogenes analysis results object. {len(self.results_df)} samples with {len(self.results_df.columns)} result variables > \")\n",
    "\n",
    "\n"
   ]
  },
  {
   "cell_type": "markdown",
   "metadata": {},
   "source": [
    "## TESTING\n"
   ]
  },
  {
   "cell_type": "code",
   "execution_count": null,
   "metadata": {},
   "outputs": [
    {
     "name": "stdout",
     "output_type": "stream",
     "text": [
      "         SEROGROUP   VR1   VR2   FetA    CC\n",
      "sample_1         Y    21    16   F3-7   174\n",
      "sample_2         X     5  2-67  F5-36  1157\n",
      "sample_3         B  18-1  30-4   F3-3      \n",
      "sample_4       NaN   NaN   NaN    NaN      \n",
      "sample_5       NaN   NaN   NaN    NaN      \n"
     ]
    },
    {
     "name": "stderr",
     "output_type": "stream",
     "text": [
      "No meningotype output found at test_input/Nmeningitidis/meningotype/meningotype4.tsv\n",
      "Meningotype output file empty at test_input/empty_file.txt\n"
     ]
    }
   ],
   "source": [
    "\n",
    "meningotype_results = extract_meningotype(meningotype_tsv=Path(\"test_input/Nmeningitidis/meningotype/meningotype1.tsv\"))\n",
    "\n",
    "assert(meningotype_results[\"SEROGROUP\"] == \"Y\")\n",
    "assert(meningotype_results[\"VR1\"] == \"21\")\n",
    "assert(meningotype_results[\"VR2\"] == \"16\")\n",
    "assert(meningotype_results[\"FetA\"] == \"F3-7\")\n",
    "\n",
    "cc_results = extract_cc_from_mlst(\"1157\",Path(\"test_input/Nmeningitidis/neisseria_mlst_scheme.tsv\"))\n",
    "cc_results = extract_cc_from_mlst(\"11\",Path(\"test_input/Nmeningitidis/neisseria_mlst_scheme.tsv\"))\n",
    "\n",
    "\n",
    "\n",
    "\n",
    "f = NmeningitidisResults.from_tool_paths_dict(file_paths=  {\"sample_1\": {\"meningotype_results\": \"test_input/Nmeningitidis/meningotype/meningotype1.tsv\", \"MLST\": \"1466\", \"mlst_scheme_tsv\": \"test_input/Nmeningitidis/neisseria_mlst_scheme.tsv\"},\n",
    "                                                            \"sample_2\": {\"meningotype_results\": \"test_input/Nmeningitidis/meningotype/meningotype2.tsv\", \"MLST\": \"1157\", \"mlst_scheme_tsv\": \"test_input/Nmeningitidis/neisseria_mlst_scheme.tsv\"}\n",
    "                                                            })\n",
    "\n",
    "assert(f.results_df[\"SEROGROUP\"][\"sample_1\"] == \"Y\")\n",
    "assert(f.results_df[\"VR1\"][\"sample_1\"] == \"21\")\n",
    "assert(f.results_df[\"CC\"][\"sample_1\"] == \"174\")\n",
    "assert(f.results_df[\"SEROGROUP\"][\"sample_2\"] == \"X\")\n",
    "assert(f.results_df[\"VR2\"][\"sample_2\"] == \"2-67\")\n",
    "assert(f.results_df[\"CC\"][\"sample_2\"] == \"1157\")\n",
    "\n",
    "f = NmeningitidisResults.from_tool_paths_tsv(tool_paths_tsv=Path(\"test_input/Nmeningitidis/batch_parser_file_paths.tsv\"))\n",
    "\n",
    "print(f.results_df)"
   ]
  },
  {
   "cell_type": "code",
   "execution_count": null,
   "metadata": {},
   "outputs": [],
   "source": [
    "# |export\n",
    "\n",
    "\n",
    "\n",
    "@call_parse\n",
    "def Nmeningitidis_parser(\n",
    "    meningotype_tsv: Path = None,  # Blast output from blasting EMM and emm-like genes\n",
    "    MLST: str = None,  # MLST to deduce Clonal complex from\n",
    "    mlst_scheme_tsv: Path = None, # Path to pubmlst scheme for neisseria for MLST: CC table\n",
    "    sample_name: str = None,\n",
    "    output_file: Path = None\n",
    ") -> None:\n",
    "    \"\"\"\n",
    "    \n",
    "    \"\"\"\n",
    "    results = NmeningitidisResults.from_tool_paths(meningotype_tsv=meningotype_tsv,\n",
    "                                                   MLST=MLST,\n",
    "                                                   mlst_scheme_tsv=mlst_scheme_tsv,\n",
    "                                                   sample_name=sample_name)\n",
    "    results.write_tsv(output_file=output_file)\n",
    "\n",
    "@call_parse\n",
    "def Nmeningitidis_batch_parser(\n",
    "    file_path_tsv: Path = None,  # Path to tsv containing file paths to the outputs from tools to be parsed. Must contain headers \"sample_name\", \"sbt_results\", and \"lag1_blast_results\"\n",
    "    output_file: Path = None,  # Path to output tsv\n",
    ") -> None:\n",
    "    \"\"\"\n",
    "    \n",
    "    \"\"\"\n",
    "    results = NmeningitidisResults.from_tool_paths_tsv(tool_paths_tsv=file_path_tsv)\n",
    "    results.write_tsv(output_file)\n",
    "\n"
   ]
  },
  {
   "cell_type": "markdown",
   "metadata": {},
   "source": [
    "# Directive for ensuring that the code in your notebook get executed as a script\n",
    "\n",
    "The code-block here below is required to ensure that the code in the notebook is also transferred to the module (script), otherwise it will just be a notebook. See [Coding in NBdev](https://dksund.sharepoint.com/:fl:/g/contentstorage/CSP_7c761ee7-b577-4e08-8517-bc82392bf65e/ETlSfUyArSNJhX8veMI_JQ8By1aXGHzDJkhotpfpXx4mmw?e=037EwH&nav=cz0lMkZjb250ZW50c3RvcmFnZSUyRkNTUF83Yzc2MWVlNy1iNTc3LTRlMDgtODUxNy1iYzgyMzkyYmY2NWUmZD1iJTIxNXg1MmZIZTFDRTZGRjd5Q09TdjJYblkwVlNiWXFYcE1yaHVrVmZqTVJUVEE4X1VwZjhTd1JxcjRNdmFrSmh2RCZmPTAxVlVLVzVWSlpLSjZVWkFGTkVORVlLN1pQUERCRDZKSVAmYz0lMkYmYT1Mb29wQXBwJnA9JTQwZmx1aWR4JTJGbG9vcC1wYWdlLWNvbnRhaW5lciZ4PSU3QiUyMnclMjIlM0ElMjJUMFJUVUh4a2EzTjFibVF1YzJoaGNtVndiMmx1ZEM1amIyMThZaUUxZURVeVpraGxNVU5GTmtaR04zbERUMU4yTWxodVdUQldVMkpaY1Zod1RYSm9kV3RXWm1wTlVsUlVRVGhmVlhCbU9GTjNVbkZ5TkUxMllXdEthSFpFZkRBeFZsVkxWelZXU1RJMVJsaFBNalkyUlZkQ1FqTTFRVmhKVTBkRFVVcFdXa1klM0QlMjIlMkMlMjJpJTIyJTNBJTIyNzRmNzM1ZmUtYzg4Ny00MjhhLWFkZmYtNTEyZTg2YmNmZmQzJTIyJTdE) \n",
    "(**Writing your own notebooks**) on loop for more details."
   ]
  },
  {
   "cell_type": "code",
   "execution_count": null,
   "metadata": {},
   "outputs": [],
   "source": [
    "# | hide\n",
    "# This is included at the end to ensure when you run through your notebook the code is also transferred to the module and isn't just a notebook\n",
    "import nbdev\n",
    "\n",
    "nbdev.nbdev_export()"
   ]
  }
 ],
 "metadata": {
  "kernelspec": {
   "display_name": "python3",
   "language": "python",
   "name": "python3"
  }
 },
 "nbformat": 4,
 "nbformat_minor": 2
}
